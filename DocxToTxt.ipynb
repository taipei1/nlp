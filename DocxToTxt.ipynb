{
  "nbformat": 4,
  "nbformat_minor": 0,
  "metadata": {
    "colab": {
      "provenance": [],
      "authorship_tag": "ABX9TyNhYGeh2RFaBtQMLaY34tt2",
      "include_colab_link": true
    },
    "kernelspec": {
      "name": "python3",
      "display_name": "Python 3"
    },
    "language_info": {
      "name": "python"
    }
  },
  "cells": [
    {
      "cell_type": "markdown",
      "metadata": {
        "id": "view-in-github",
        "colab_type": "text"
      },
      "source": [
        "<a href=\"https://colab.research.google.com/github/taipei1/nlp/blob/main/DocxToTxt.ipynb\" target=\"_parent\"><img src=\"https://colab.research.google.com/assets/colab-badge.svg\" alt=\"Open In Colab\"/></a>"
      ]
    },
    {
      "cell_type": "code",
      "source": [
        "!pip install python-docx"
      ],
      "metadata": {
        "colab": {
          "base_uri": "https://localhost:8080/"
        },
        "collapsed": true,
        "id": "abu_8Ft29wZp",
        "outputId": "6991d6b2-1e5b-4117-85e1-09ae05caa86c"
      },
      "execution_count": 2,
      "outputs": [
        {
          "output_type": "stream",
          "name": "stdout",
          "text": [
            "Collecting python-docx\n",
            "  Downloading python_docx-1.1.2-py3-none-any.whl.metadata (2.0 kB)\n",
            "Requirement already satisfied: lxml>=3.1.0 in /usr/local/lib/python3.10/dist-packages (from python-docx) (5.3.0)\n",
            "Requirement already satisfied: typing-extensions>=4.9.0 in /usr/local/lib/python3.10/dist-packages (from python-docx) (4.12.2)\n",
            "Downloading python_docx-1.1.2-py3-none-any.whl (244 kB)\n",
            "\u001b[?25l   \u001b[90m━━━━━━━━━━━━━━━━━━━━━━━━━━━━━━━━━━━━━━━━\u001b[0m \u001b[32m0.0/244.3 kB\u001b[0m \u001b[31m?\u001b[0m eta \u001b[36m-:--:--\u001b[0m\r\u001b[2K   \u001b[91m━━━━━━━━━━━\u001b[0m\u001b[91m╸\u001b[0m\u001b[90m━━━━━━━━━━━━━━━━━━━━━━━━━━━━\u001b[0m \u001b[32m71.7/244.3 kB\u001b[0m \u001b[31m2.7 MB/s\u001b[0m eta \u001b[36m0:00:01\u001b[0m\r\u001b[2K   \u001b[90m━━━━━━━━━━━━━━━━━━━━━━━━━━━━━━━━━━━━━━━━\u001b[0m \u001b[32m244.3/244.3 kB\u001b[0m \u001b[31m3.8 MB/s\u001b[0m eta \u001b[36m0:00:00\u001b[0m\n",
            "\u001b[?25hInstalling collected packages: python-docx\n",
            "Successfully installed python-docx-1.1.2\n"
          ]
        }
      ]
    },
    {
      "cell_type": "markdown",
      "source": [
        "# Первый варинт парсинга. Данные сохраняются в исходном порядке.\n"
      ],
      "metadata": {
        "id": "rI6Vt-qtPHWu"
      }
    },
    {
      "cell_type": "code",
      "source": [
        "from docx import Document\n",
        "\n",
        "def extract_docx_text(input_file, output_file):\n",
        "    doc = Document(input_file)\n",
        "\n",
        "    # Извлечение текста из параграфов\n",
        "    paragraphs = []\n",
        "    lists = []\n",
        "    for p in doc.paragraphs:\n",
        "        if p.style.name.startswith('List'):\n",
        "            # Обработка нумерованных и ненумерованных списков\n",
        "            text = f\"- {p.text.strip()}\" if 'Bullet' in p.style.name else f\"{p.text.strip()}\"\n",
        "            lists.append(text)\n",
        "        else:\n",
        "            paragraphs.append(p.text.strip())\n",
        "\n",
        "    # Извлечение текста из таблиц\n",
        "    table_rows = []\n",
        "    for table in doc.tables:\n",
        "        for row in table.rows:\n",
        "            row_text = [cell.text.strip() for cell in row.cells if cell.text.strip()]\n",
        "            if row_text:\n",
        "                table_rows.append('==='.join(row_text))\n",
        "\n",
        "    # Запись в файл\n",
        "    with open(output_file, 'w', encoding='utf-8') as f:\n",
        "        f.write(\"# Текст вне таблиц:\\n\")\n",
        "        f.write(\"\\n\".join([p for p in paragraphs if p]))\n",
        "        f.write(\"\\n\\n# Данные из списка:\\n\")\n",
        "        f.write(\"\\n\".join([l for l in lists if l]))\n",
        "        f.write(\"\\n\\n# Текст из таблиц:\\n\")\n",
        "        f.write(\"\\n\".join(table_rows))\n",
        "\n",
        "# Вызов\n",
        "extract_docx_text('data.docx', 'info.txt')\n",
        "print(\"Текст извлечен\")\n"
      ],
      "metadata": {
        "id": "jnJh6GoqNAl6",
        "colab": {
          "base_uri": "https://localhost:8080/"
        },
        "outputId": "e669b526-a182-4b7d-aaed-8822774bf3c4"
      },
      "execution_count": 3,
      "outputs": [
        {
          "output_type": "stream",
          "name": "stdout",
          "text": [
            "Текст извлечен\n"
          ]
        }
      ]
    },
    {
      "cell_type": "markdown",
      "source": [
        "# Второй вариант парсинга. Сохранение Таблиц и списоков в конце."
      ],
      "metadata": {
        "id": "bil1mtjwPtop"
      }
    },
    {
      "cell_type": "code",
      "source": [
        "from docx import Document\n",
        "\n",
        "def extract_docx_text(input_file, output_file):\n",
        "    doc = Document(input_file)\n",
        "\n",
        "    # Извлечение текста из параграфов\n",
        "    paragraphs = []\n",
        "    lists = []\n",
        "    for p in doc.paragraphs:\n",
        "        if p.style.name.startswith('List'):\n",
        "            # Обработка нумерованных и ненумерованных списков\n",
        "            text = f\"- {p.text.strip()}\" if 'Bullet' in p.style.name else f\"{p.text.strip()}\"\n",
        "            lists.append(text)\n",
        "        else:\n",
        "            paragraphs.append(p.text.strip())\n",
        "\n",
        "    # Извлечение текста из таблиц\n",
        "    table_rows = []\n",
        "    for table in doc.tables:\n",
        "        for row in table.rows:\n",
        "            row_text = [cell.text.strip() for cell in row.cells if cell.text.strip()]\n",
        "            if row_text:\n",
        "                table_rows.append('==='.join(row_text))\n",
        "        # Добавляем разделитель между таблицами\n",
        "        table_rows.append(\"\\n---\\n\")\n",
        "\n",
        "    # Запись в файл\n",
        "    with open(output_file, 'w', encoding='utf-8') as f:\n",
        "        f.write(\"# Текст вне таблиц:\\n\")\n",
        "        f.write(\"\\n\".join([p for p in paragraphs if p]))\n",
        "        f.write(\"\\n\\n# Данные из списка:\\n\")\n",
        "        f.write(\"\\n\".join([l for l in lists if l]))\n",
        "        f.write(\"\\n\\n# Текст из таблиц:\\n\")\n",
        "        f.write(\"\\n\".join(table_rows).strip())\n",
        "\n",
        "# Использование\n",
        "extract_docx_text('data.docx', 'info.txt')\n",
        "print(\"Текст извлечен\")\n"
      ],
      "metadata": {
        "colab": {
          "base_uri": "https://localhost:8080/"
        },
        "id": "tot0J_tlQptU",
        "outputId": "1b128c94-6c3e-45b2-b3bf-78f0f002dcd7"
      },
      "execution_count": 6,
      "outputs": [
        {
          "output_type": "stream",
          "name": "stdout",
          "text": [
            "Текст извлечен\n"
          ]
        }
      ]
    }
  ]
}